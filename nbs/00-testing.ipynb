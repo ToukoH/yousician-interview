{
 "cells": [
  {
   "cell_type": "code",
   "execution_count": 1,
   "metadata": {},
   "outputs": [],
   "source": [
    "import pandas as pd"
   ]
  },
  {
   "cell_type": "code",
   "execution_count": 29,
   "metadata": {},
   "outputs": [],
   "source": [
    "df = pd.read_csv(\"../data/labeled_chord_data.csv\")"
   ]
  },
  {
   "cell_type": "code",
   "execution_count": 30,
   "metadata": {},
   "outputs": [
    {
     "data": {
      "text/html": [
       "<div>\n",
       "<style scoped>\n",
       "    .dataframe tbody tr th:only-of-type {\n",
       "        vertical-align: middle;\n",
       "    }\n",
       "\n",
       "    .dataframe tbody tr th {\n",
       "        vertical-align: top;\n",
       "    }\n",
       "\n",
       "    .dataframe thead th {\n",
       "        text-align: right;\n",
       "    }\n",
       "</style>\n",
       "<table border=\"1\" class=\"dataframe\">\n",
       "  <thead>\n",
       "    <tr style=\"text-align: right;\">\n",
       "      <th></th>\n",
       "      <th>Chord Root Note</th>\n",
       "      <th>Chord Type</th>\n",
       "      <th>Chroma A</th>\n",
       "      <th>Chroma A#</th>\n",
       "      <th>Chroma B</th>\n",
       "      <th>Chroma C</th>\n",
       "      <th>Chroma C#</th>\n",
       "      <th>Chroma D</th>\n",
       "      <th>Chroma D#</th>\n",
       "      <th>Chroma E</th>\n",
       "      <th>Chroma F</th>\n",
       "      <th>Chroma F#</th>\n",
       "      <th>Chroma G</th>\n",
       "      <th>Chroma G#</th>\n",
       "    </tr>\n",
       "  </thead>\n",
       "  <tbody>\n",
       "    <tr>\n",
       "      <th>0</th>\n",
       "      <td>1</td>\n",
       "      <td>0</td>\n",
       "      <td>0.1000</td>\n",
       "      <td>1.65</td>\n",
       "      <td>0.01770</td>\n",
       "      <td>1.250</td>\n",
       "      <td>0.005120</td>\n",
       "      <td>1.030</td>\n",
       "      <td>0.222</td>\n",
       "      <td>0.02740</td>\n",
       "      <td>2.310</td>\n",
       "      <td>0.044100</td>\n",
       "      <td>1.080</td>\n",
       "      <td>0.03910</td>\n",
       "    </tr>\n",
       "    <tr>\n",
       "      <th>1</th>\n",
       "      <td>11</td>\n",
       "      <td>0</td>\n",
       "      <td>0.0000</td>\n",
       "      <td>1.13</td>\n",
       "      <td>0.09360</td>\n",
       "      <td>2.220</td>\n",
       "      <td>0.008070</td>\n",
       "      <td>0.233</td>\n",
       "      <td>1.830</td>\n",
       "      <td>0.00214</td>\n",
       "      <td>0.574</td>\n",
       "      <td>0.000218</td>\n",
       "      <td>0.577</td>\n",
       "      <td>1.52000</td>\n",
       "    </tr>\n",
       "    <tr>\n",
       "      <th>2</th>\n",
       "      <td>1</td>\n",
       "      <td>0</td>\n",
       "      <td>0.0000</td>\n",
       "      <td>2.24</td>\n",
       "      <td>0.08000</td>\n",
       "      <td>0.967</td>\n",
       "      <td>0.000312</td>\n",
       "      <td>1.440</td>\n",
       "      <td>0.375</td>\n",
       "      <td>0.00255</td>\n",
       "      <td>1.200</td>\n",
       "      <td>0.024800</td>\n",
       "      <td>1.380</td>\n",
       "      <td>0.15600</td>\n",
       "    </tr>\n",
       "    <tr>\n",
       "      <th>3</th>\n",
       "      <td>11</td>\n",
       "      <td>0</td>\n",
       "      <td>0.0298</td>\n",
       "      <td>1.62</td>\n",
       "      <td>0.03000</td>\n",
       "      <td>1.930</td>\n",
       "      <td>0.002520</td>\n",
       "      <td>0.207</td>\n",
       "      <td>2.210</td>\n",
       "      <td>0.02400</td>\n",
       "      <td>0.425</td>\n",
       "      <td>0.013300</td>\n",
       "      <td>0.726</td>\n",
       "      <td>1.23000</td>\n",
       "    </tr>\n",
       "    <tr>\n",
       "      <th>4</th>\n",
       "      <td>1</td>\n",
       "      <td>0</td>\n",
       "      <td>0.1180</td>\n",
       "      <td>2.30</td>\n",
       "      <td>0.00163</td>\n",
       "      <td>1.840</td>\n",
       "      <td>0.088000</td>\n",
       "      <td>0.868</td>\n",
       "      <td>0.859</td>\n",
       "      <td>0.02420</td>\n",
       "      <td>1.640</td>\n",
       "      <td>0.182000</td>\n",
       "      <td>1.250</td>\n",
       "      <td>0.00196</td>\n",
       "    </tr>\n",
       "  </tbody>\n",
       "</table>\n",
       "</div>"
      ],
      "text/plain": [
       "   Chord Root Note  Chord Type  Chroma A  Chroma A#  Chroma B  Chroma C  \\\n",
       "0                1           0    0.1000       1.65   0.01770     1.250   \n",
       "1               11           0    0.0000       1.13   0.09360     2.220   \n",
       "2                1           0    0.0000       2.24   0.08000     0.967   \n",
       "3               11           0    0.0298       1.62   0.03000     1.930   \n",
       "4                1           0    0.1180       2.30   0.00163     1.840   \n",
       "\n",
       "   Chroma C#  Chroma D  Chroma D#  Chroma E  Chroma F  Chroma F#  Chroma G  \\\n",
       "0   0.005120     1.030      0.222   0.02740     2.310   0.044100     1.080   \n",
       "1   0.008070     0.233      1.830   0.00214     0.574   0.000218     0.577   \n",
       "2   0.000312     1.440      0.375   0.00255     1.200   0.024800     1.380   \n",
       "3   0.002520     0.207      2.210   0.02400     0.425   0.013300     0.726   \n",
       "4   0.088000     0.868      0.859   0.02420     1.640   0.182000     1.250   \n",
       "\n",
       "   Chroma G#  \n",
       "0    0.03910  \n",
       "1    1.52000  \n",
       "2    0.15600  \n",
       "3    1.23000  \n",
       "4    0.00196  "
      ]
     },
     "execution_count": 30,
     "metadata": {},
     "output_type": "execute_result"
    }
   ],
   "source": [
    "df.head()"
   ]
  },
  {
   "cell_type": "code",
   "execution_count": 31,
   "metadata": {},
   "outputs": [],
   "source": [
    "chord_values = {\n",
    "    0: \"A\",\n",
    "    1: \"A#\",\n",
    "    2: \"B\",\n",
    "    3: \"C\",\n",
    "    4: \"C#\",\n",
    "    5: \"D\",\n",
    "    6: \"D#\",\n",
    "    7: \"E\",\n",
    "    8: \"F\",\n",
    "    9: \"F#\",\n",
    "    10: \"G\",\n",
    "    11: \"G#\"\n",
    "}"
   ]
  },
  {
   "cell_type": "code",
   "execution_count": 35,
   "metadata": {},
   "outputs": [],
   "source": [
    "chord_bases = []\n",
    "for base in df[\"Chord Root Note\"].unique():\n",
    "    chord_bases.append(chord_values[base])\n",
    "\n",
    "chord_bases.sort()"
   ]
  },
  {
   "cell_type": "code",
   "execution_count": 36,
   "metadata": {},
   "outputs": [
    {
     "data": {
      "text/plain": [
       "['A', 'A#', 'B', 'C', 'C#', 'D', 'D#', 'E', 'F', 'F#', 'G', 'G#']"
      ]
     },
     "execution_count": 36,
     "metadata": {},
     "output_type": "execute_result"
    }
   ],
   "source": [
    "chord_bases"
   ]
  },
  {
   "cell_type": "markdown",
   "metadata": {},
   "source": [
    "### Note to self: The data contains all bases"
   ]
  }
 ],
 "metadata": {
  "kernelspec": {
   "display_name": "venv",
   "language": "python",
   "name": "python3"
  },
  "language_info": {
   "codemirror_mode": {
    "name": "ipython",
    "version": 3
   },
   "file_extension": ".py",
   "mimetype": "text/x-python",
   "name": "python",
   "nbconvert_exporter": "python",
   "pygments_lexer": "ipython3",
   "version": "3.10.5"
  }
 },
 "nbformat": 4,
 "nbformat_minor": 2
}
